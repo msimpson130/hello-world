{
  "cells": [
    {
      "cell_type": "markdown",
      "metadata": {
        "id": "view-in-github",
        "colab_type": "text"
      },
      "source": [
        "<a href=\"https://colab.research.google.com/github/msimpson130/hello-world/blob/main/pine_trees.ipynb\" target=\"_parent\"><img src=\"https://colab.research.google.com/assets/colab-badge.svg\" alt=\"Open In Colab\"/></a>"
      ]
    },
    {
      "cell_type": "markdown",
      "metadata": {
        "id": "tqKi3DagNrhs"
      },
      "source": [
        "First off, you need to open this notebook in Google Colab. So download this notebook and upload it to your Google Drive. Once it's in your Google Drive, you can open it with Google Colab."
      ]
    },
    {
      "cell_type": "markdown",
      "metadata": {
        "id": "ljcKbZg_Nrhu"
      },
      "source": [
        "# HW2 : Pine Trees\n",
        "\n",
        "I would like you to channel your inner Bob Ross and write a python program that draws ASCII art pine trees.\n",
        "Your program should prompt the user to input the height of the tree they would like. Then it should draw a tree to the output area beneath your code. The tree should be made of astrix (*) . It should have a trunk visible at the bottom of the tree from the pipe symbol (|).\n",
        "\n",
        "An example run would look like below:"
      ]
    },
    {
      "cell_type": "code",
      "execution_count": null,
      "metadata": {
        "id": "OqmSiSeVNrhu"
      },
      "outputs": [],
      "source": [
        "'''\n",
        "How tall should the tree be? 10\n",
        "          *\n",
        "         ***\n",
        "        *****\n",
        "       *******\n",
        "      *********\n",
        "     ***********\n",
        "    *************\n",
        "   ***************\n",
        "  *****************\n",
        " *******************\n",
        "          |\n",
        "'''"
      ]
    },
    {
      "cell_type": "markdown",
      "metadata": {
        "id": "27tD3BuYNrhv"
      },
      "source": [
        "Here's another example with a shorter tree:"
      ]
    },
    {
      "cell_type": "code",
      "execution_count": null,
      "metadata": {
        "id": "_RuGxPxcNrhv"
      },
      "outputs": [],
      "source": [
        "'''\n",
        "How tall should the tree be? 4\n",
        "    *\n",
        "   ***\n",
        "  *****\n",
        " *******\n",
        "    |\n",
        "'''"
      ]
    },
    {
      "cell_type": "markdown",
      "metadata": {
        "id": "FB28ZPcJNrhv"
      },
      "source": [
        "### Here are some hints:\n",
        "\n",
        "* You will use the print function.\n",
        "  * I want you to use the print function to print only a single character at a time.\n",
        "  * For example, you should use `print(\"*\", end=\"\")` or `print(\" \", end=\"\")`.\n",
        "  \n",
        "  \n",
        "* In order to get this program to work, you will need to use for loops.\n",
        "  * You will write more than one for loop.\n",
        "\n",
        "* You will prompt the user to specify a length by asking \"How tall should the tree be?\"\n",
        "  * The user shoud be able to enter their answer on the same line as the question.\n",
        "  * After entering their answer, the tree should be drawn to the output area."
      ]
    },
    {
      "cell_type": "code",
      "execution_count": 23,
      "metadata": {
        "colab": {
          "base_uri": "https://localhost:8080/"
        },
        "id": "UsWPwV8uNrhv",
        "outputId": "b7a5ec65-36ff-44ac-d7c5-141ffaf778bf"
      },
      "outputs": [
        {
          "output_type": "stream",
          "name": "stdout",
          "text": [
            "   *   \n",
            "  ***  \n",
            " ***** \n",
            "*******\n",
            "   |\n",
            "    "
          ]
        }
      ],
      "source": [
        "# Implement your code in this cell.\n",
        "#I am getting this error with the input \"TypeError: 'str' object is not callable\"\n",
        "#but I cast it to an int. It worked in another IDE, I am unsure what the issue is\n",
        "#treeLength = int(input(\"How tall should the tree be? \"))\n",
        "treeLength = 4 #these work\n",
        "#treeLength = 10\n",
        "\n",
        "#length of the bottom of the tree\n",
        "bottomLength = 1\n",
        "for i in range(treeLength - 1):\n",
        "    bottomLength = bottomLength +  2\n",
        "\n",
        "#index of the middle of the tree\n",
        "middle = bottomLength//2\n",
        "\n",
        "#numbers of asterisks to print\n",
        "treeParts = 1\n",
        "for i in range (treeLength):\n",
        "    blanks = middle - i\n",
        "\n",
        "    #print blanks before the middle asterisks\n",
        "    for j in range (blanks):\n",
        "        print(\" \", end=\"\")\n",
        "\n",
        "    #print the asterisks\n",
        "    for j in range(treeParts):\n",
        "        print(\"*\", end=\"\")\n",
        "\n",
        "    #print the blanks after the asterisks\n",
        "    for j in range (blanks):\n",
        "        print(\" \", end=\"\")\n",
        "\n",
        "    #increment the amount of asterisks\n",
        "    treeParts += 2\n",
        "\n",
        "    #print newline\n",
        "    print()\n",
        "\n",
        "#print the stem of the tree\n",
        "for i in range(bottomLength):\n",
        "    if i == middle:\n",
        "        print(\"|\")\n",
        "    print(\" \", end=\"\")"
      ]
    },
    {
      "cell_type": "code",
      "source": [],
      "metadata": {
        "colab": {
          "base_uri": "https://localhost:8080/",
          "height": 144
        },
        "id": "6lcPzL9jNslc",
        "outputId": "8545b751-a36d-4484-aaf4-b275f0de2126"
      },
      "execution_count": 16,
      "outputs": [
        {
          "output_type": "error",
          "ename": "TypeError",
          "evalue": "'str' object is not callable",
          "traceback": [
            "\u001b[0;31m---------------------------------------------------------------------------\u001b[0m",
            "\u001b[0;31mTypeError\u001b[0m                                 Traceback (most recent call last)",
            "\u001b[0;32m<ipython-input-16-807645c0611d>\u001b[0m in \u001b[0;36m<cell line: 1>\u001b[0;34m()\u001b[0m\n\u001b[0;32m----> 1\u001b[0;31m \u001b[0mtreeLength\u001b[0m \u001b[0;34m=\u001b[0m \u001b[0mint\u001b[0m\u001b[0;34m(\u001b[0m\u001b[0minput\u001b[0m\u001b[0;34m(\u001b[0m\u001b[0;34m\"How tall should the tree be? \"\u001b[0m\u001b[0;34m)\u001b[0m\u001b[0;34m)\u001b[0m\u001b[0;34m\u001b[0m\u001b[0;34m\u001b[0m\u001b[0m\n\u001b[0m",
            "\u001b[0;31mTypeError\u001b[0m: 'str' object is not callable"
          ]
        }
      ]
    }
  ],
  "metadata": {
    "kernelspec": {
      "display_name": "Python 3",
      "language": "python",
      "name": "python3"
    },
    "language_info": {
      "codemirror_mode": {
        "name": "ipython",
        "version": 3
      },
      "file_extension": ".py",
      "mimetype": "text/x-python",
      "name": "python",
      "nbconvert_exporter": "python",
      "pygments_lexer": "ipython3",
      "version": "3.10.6"
    },
    "orig_nbformat": 4,
    "colab": {
      "provenance": [],
      "include_colab_link": true
    }
  },
  "nbformat": 4,
  "nbformat_minor": 0
}